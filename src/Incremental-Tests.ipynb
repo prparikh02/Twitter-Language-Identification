{
 "cells": [
  {
   "cell_type": "code",
   "execution_count": 207,
   "metadata": {
    "collapsed": true
   },
   "outputs": [],
   "source": [
    "from collections import Counter\n",
    "import collections\n",
    "import numpy as np\n",
    "import scipy.sparse as ss\n",
    "import Constants\n",
    "# from DataManager import DataError, DataManager\n",
    "# from Experiment import Experiment"
   ]
  },
  {
   "cell_type": "code",
   "execution_count": 208,
   "metadata": {
    "collapsed": true
   },
   "outputs": [],
   "source": [
    "RECALL_TSV = '../data/recall_oriented.tsv'\n",
    "PRECISION_TSV = '../data/precision_oriented.tsv'\n",
    "UNIFORM_TSV = '../data/uniformly_sampled.tsv'\n",
    "\n",
    "RECALL_DATA = '../data/hydrated_recall.json'\n",
    "PRECISION_DATA = '../data/hydrated_precision.json'\n",
    "UNIFORM_DATA = '../data/hydrated_uniform.json'\n",
    "\n",
    "LANG_CODES = '../data/lang_codes.txt'"
   ]
  },
  {
   "cell_type": "code",
   "execution_count": 209,
   "metadata": {
    "collapsed": false
   },
   "outputs": [],
   "source": [
    "class DataError(Exception):\n",
    "    def __init__(self, message):\n",
    "        self.message = message\n",
    "\n",
    "\n",
    "class DataManager(object):\n",
    "\n",
    "    def __init__(self,\n",
    "                 annotated_tsv=Constants.RECALL_TSV,\n",
    "                 retrieved_data=Constants.RECALL_DATA,\n",
    "                 lang_codes_file=Constants.LANG_CODES):\n",
    "        self.initialized = False\n",
    "        self.annotated_tsv = annotated_tsv\n",
    "        self.retrieved_data = retrieved_data\n",
    "        self.lang_codes_file = lang_codes_file\n",
    "\n",
    "    def initialize(self, splits=(0.60, 0.20, 0.20), shuffle=True):\n",
    "        if self.initialized:\n",
    "            return\n",
    "        self.lang_codes = self._load_lang_codes()\n",
    "        self.tweet_labels, self.canonical_inv_idx = \\\n",
    "            self._load_tweet_labels()\n",
    "        self.tweet_text, self.hydrated_inv_idx = self._load_tweet_text()\n",
    "        self._split_dataset(splits, shuffle)\n",
    "        self.initialized = True\n",
    "\n",
    "    def _split_dataset(self, splits, shuffle):\n",
    "        if type(splits) not in [list, tuple] or len(splits) != 3:\n",
    "            err_msg = 'splits should be collection (list or tuple) of length 3'\n",
    "            raise DataError(err_msg)\n",
    "        if sum(splits) != 1.0:\n",
    "            raise DataError('split percentages should sum to 1.0')\n",
    "\n",
    "        # percentage_split() code source: http://bit.ly/2buzsDm\n",
    "        def percentage_split(seq, percentages):\n",
    "            if shuffle:\n",
    "                np.random.shuffle(seq)\n",
    "            cdf = np.cumsum(percentages)\n",
    "            stops = map(int, cdf * len(seq))\n",
    "            return [seq[a:b] for a, b in zip([0] + stops, stops)]\n",
    "\n",
    "        self.X_train, self.y_train = [], []\n",
    "        self.X_dev, self.y_dev = [], []\n",
    "        self.X_test, self.y_test = [], []\n",
    "        for lang in self.hydrated_inv_idx:\n",
    "            if lang not in self.lang_codes:\n",
    "                continue\n",
    "            tweet_ids = list(self.hydrated_inv_idx[lang])\n",
    "            train, dev, test = percentage_split(tweet_ids, splits)\n",
    "            self.X_train += [self.tweet_text[t] for t in train]\n",
    "            self.y_train += [lang] * len(train)\n",
    "            self.X_dev += [self.tweet_text[t] for t in dev]\n",
    "            self.y_dev += [lang] * len(dev)\n",
    "            self.X_test += [self.tweet_text[t] for t in test]\n",
    "            self.y_test += [lang] * len(test)\n",
    "\n",
    "    def _load_lang_codes(self):\n",
    "        lang_codes = set()\n",
    "        with open(self.lang_codes_file) as fp:\n",
    "            for line in fp:\n",
    "                lang_codes.add(line.strip())\n",
    "        return lang_codes\n",
    "\n",
    "    def _update_inverted_index(self, inv_idx, lang, tweet_id):\n",
    "        if lang in inv_idx:\n",
    "            inv_idx[lang].add(tweet_id)\n",
    "        else:\n",
    "            inv_idx[lang] = set([tweet_id])\n",
    "        return inv_idx\n",
    "\n",
    "    def _load_tweet_labels(self):\n",
    "        D = {}\n",
    "        inv_idx = {}\n",
    "        with open(self.annotated_tsv) as tsv:\n",
    "            for line in tsv:\n",
    "                t_lang, t_id = line.strip().split('\\t')\n",
    "                D[t_id] = t_lang\n",
    "                self._update_inverted_index(inv_idx, t_lang, t_id)\n",
    "        return D, inv_idx\n",
    "\n",
    "    def _load_tweet_text(self):\n",
    "        D = {}\n",
    "        inv_idx = {}\n",
    "        with open(self.retrieved_data) as fp:\n",
    "            for line in fp:\n",
    "                stripped = line.strip()[2:-2]  # remove quotes and brackets\n",
    "                t_id, t_text = stripped.split('\\\",\\\"')\n",
    "                D[t_id] = t_text\n",
    "                self._update_inverted_index(inv_idx,\n",
    "                                            self.tweet_labels[t_id],\n",
    "                                            t_id)\n",
    "        return D, inv_idx\n",
    "\n",
    "    def training_data(self):\n",
    "        if not self.initialized:\n",
    "            raise DataError('Must call initialize() first')\n",
    "        return self.X_train[:], self.y_train[:]\n",
    "\n",
    "    def dev_data(self):\n",
    "        if not self.initialized:\n",
    "            raise DataError('Must call initialize() first')\n",
    "        return self.X_dev[:], self.y_dev[:]\n",
    "\n",
    "    def test_data(self):\n",
    "        if not self.initialized:\n",
    "            raise DataError('Must call initialize() first')\n",
    "        return self.X_test[:], self.y_test[:]\n",
    "\n",
    "    def hydrated_diff(self):\n",
    "        if not self.initialized:\n",
    "            raise DataError('Must call initialize() first')\n",
    "        for lang in self.lang_codes:\n",
    "            try:\n",
    "                diff = (len(self.canonical_inv_idx[lang]) -\n",
    "                        len(self.hydrated_inv_idx[lang]))\n",
    "            except KeyError:\n",
    "                diff = None\n",
    "            print('{}: {}'.format(lang, diff))\n"
   ]
  },
  {
   "cell_type": "code",
   "execution_count": 210,
   "metadata": {
    "collapsed": true
   },
   "outputs": [],
   "source": [
    "import numpy as np\n",
    "import scipy.sparse as ss\n",
    "import sklearn.linear_model\n",
    "from sklearn.exceptions import NotFittedError\n",
    "from sklearn.feature_extraction.text import TfidfVectorizer\n",
    "\n",
    "\n",
    "class Experiment(object):\n",
    "    '''\n",
    "    Organize the process of getting data, building a classifier,\n",
    "    and exploring new representations. Experiment class pattern credit to:\n",
    "    Matthew Stone, CS 533, Spring 2017 - Classifier Patterns\n",
    "    '''\n",
    "\n",
    "    def __init__(self,\n",
    "                 data_manager,\n",
    "                 classifier,\n",
    "                 cleaning_operations,\n",
    "                 filtering_operations,\n",
    "                 vectorizer,\n",
    "                 shuffle=False,\n",
    "                 seed=None):\n",
    "        '''set up the problem of learning a classifier from a data manager'''\n",
    "        self.data_manager = data_manager\n",
    "        self.classifier = classifier\n",
    "        self.cleaning_operations = cleaning_operations\n",
    "        self.filtering_operations = filtering_operations\n",
    "        self.vectorizer = vectorizer\n",
    "        self.shuffle = shuffle\n",
    "        self.seed = seed\n",
    "        self.initialized = False\n",
    "        self.validated = False\n",
    "\n",
    "    def initialize(self):\n",
    "        '''materialize the training data, dev data and test data as matrices'''\n",
    "        if self.initialized:\n",
    "            return\n",
    "        self.X_train_text, self.y_train_text = \\\n",
    "            self.data_manager.training_data()\n",
    "        self.X_dev_text, self.y_dev_text = \\\n",
    "            self.data_manager.dev_data()\n",
    "        self.X_test_text, self.y_test_text = \\\n",
    "            self.data_manager.test_data()\n",
    "        self._filter()\n",
    "        self._clean()\n",
    "        self._extract_features()\n",
    "        if self.shuffle:\n",
    "            self._shuffle()\n",
    "        self.initialized = True\n",
    "\n",
    "    def _filter(self):\n",
    "        '''\n",
    "        The order of the list of operations matters!\n",
    "        Filtering will remove data!\n",
    "        '''\n",
    "        for op in self.filtering_operations:\n",
    "            if isinstance(op, tuple):\n",
    "                f = op[0]\n",
    "                args = op[1]\n",
    "            else:\n",
    "                f = op\n",
    "                args = {}\n",
    "            self.X_train_text, self.y_train_text = \\\n",
    "                f(self.X_train_text, self.y_train_text, **args)\n",
    "            self.X_dev_text, self.y_dev_text = \\\n",
    "                f(self.X_dev_text, self.y_dev_text, **args)\n",
    "            self.X_test_text, self.y_test_text = \\\n",
    "                f(self.X_test_text, self.y_test_text, **args)\n",
    "\n",
    "    def _clean(self):\n",
    "        '''\n",
    "        The order of the list of operations matters! It is recommended to have\n",
    "            'replace_newline_char' be the first in cleaning_operations.\n",
    "            Cleaning will not remove data!\n",
    "        '''\n",
    "        for op in self.cleaning_operations:\n",
    "            if isinstance(op, tuple):\n",
    "                f = op[0]\n",
    "                args = op[1]\n",
    "            else:\n",
    "                f = op\n",
    "                args = {}\n",
    "            f(self.X_train_text, self.y_train_text, **args)\n",
    "            f(self.X_dev_text, self.y_dev_text, **args)\n",
    "            f(self.X_test_text, self.y_test_text, **args)\n",
    "\n",
    "    def _extract_features(self):\n",
    "        '''\n",
    "        Vectorizer should return NxM matrix where N is number of samples and\n",
    "            M is number of features (dimension)\n",
    "        '''\n",
    "        try:\n",
    "            self.X_train = self.vectorizer.transform(self.X_train_text)\n",
    "            print('Using vectorizer fitted elsewhere')\n",
    "        except NotFittedError:\n",
    "            self.X_train = self.vectorizer.fit_transform(self.X_train_text)\n",
    "        self.X_dev = self.vectorizer.transform(self.X_dev_text)\n",
    "        self.X_test = self.vectorizer.transform(self.X_test_text)\n",
    "\n",
    "        # TODO: Ensure no zero vectors or any funny business\n",
    "        S = list(set(self.y_train_text + self.y_dev_text + self.y_test_text))\n",
    "        self.lang_to_num = dict(zip(S, range(len(S))))\n",
    "        self.num_to_lang = {v: k for k, v in self.lang_to_num.iteritems()}\n",
    "\n",
    "        conv = lambda x: self.lang_to_num[x]\n",
    "        self.y_train = map(conv, self.y_train_text)\n",
    "        self.y_dev = map(conv, self.y_dev_text)\n",
    "        self.y_test = map(conv, self.y_test_text)\n",
    "\n",
    "    def _shuffle(self):\n",
    "        if self.seed:\n",
    "            np.random.seed(self.seed)\n",
    "        p = np.random.permutation(len(self.y_train))\n",
    "        self.X_train = self.X_train[p]\n",
    "        self.X_train_text = [self.X_train_text[i] for i in p]\n",
    "        self.y_train = [self.y_train[i] for i in p]\n",
    "        self.y_train_text = [self.y_train_text[i] for i in p]\n",
    "\n",
    "    def stack_features(self, vectorizers):\n",
    "        if not self.initialized:\n",
    "            self.initialize()\n",
    "        for vec in vectorizers:\n",
    "            s = 'Number of features {} stacking: {}'\n",
    "            print(s.format('before', self.X_train.shape[1]))\n",
    "            try:\n",
    "                self.X_train = \\\n",
    "                    ss.hstack([self.X_train,\n",
    "                               vec.transform(self.X_train_text)])\n",
    "                print('Using vectorizer fitted elsewhere')\n",
    "            except NotFittedError:\n",
    "                self.X_train = \\\n",
    "                    ss.hstack([self.X_train,\n",
    "                               vec.fit_transform(self.X_train_text)])\n",
    "            self.X_dev = \\\n",
    "                ss.hstack([self.X_dev, vec.transform(self.X_dev_text)])\n",
    "            self.X_test = \\\n",
    "                ss.hstack([self.X_test, vec.transform(self.X_test_text)])\n",
    "            print(s.format('after', self.X_train.shape[1]))\n",
    "\n",
    "    def fit_and_validate(self):\n",
    "        '''train the classifier and assess predictions on dev data'''\n",
    "        if not self.initialized:\n",
    "            self.initialize()\n",
    "        if (not hasattr(self.classifier, 'coef_') or\n",
    "                self.classifier.coef_ is None):\n",
    "            self.classifier.fit(self.X_train, self.y_train)\n",
    "        else:\n",
    "            print('Using classifier fitted elsewhere')\n",
    "\n",
    "        self.dev_predictions = self.classifier.predict(self.X_dev)\n",
    "        self.dev_accuracy = \\\n",
    "            sklearn.metrics.accuracy_score(self.y_dev, self.dev_predictions)\n",
    "        self.validated = True\n",
    "\n",
    "    def test_results(self):\n",
    "        ''' Get results from testing data '''\n",
    "        if not self.initialized:\n",
    "            self.initialize()\n",
    "            self.fit_and_validate()\n",
    "        if not self.validated:\n",
    "            self.fit_and_validate()\n",
    "        self.test_predictions = self.classifier.predict(self.X_test)\n",
    "        self.test_accuracy = \\\n",
    "            sklearn.metrics.accuracy_score(self.y_test, self.test_predictions)\n"
   ]
  },
  {
   "cell_type": "code",
   "execution_count": 211,
   "metadata": {
    "collapsed": false
   },
   "outputs": [],
   "source": [
    "import matplotlib.pyplot as plt\n",
    "import itertools\n",
    "\n",
    "def plot_confusion_matrix(cm, classes,\n",
    "                          normalize=False,\n",
    "                          title='Confusion matrix',\n",
    "                          cmap=plt.cm.Reds):\n",
    "    \"\"\"\n",
    "    This function prints and plots the confusion matrix.\n",
    "    Normalization can be applied by setting `normalize=True`.\n",
    "    \"\"\"\n",
    "\n",
    "    tick_marks = np.arange(len(classes))\n",
    "    plt.xticks(tick_marks, classes, rotation=45)\n",
    "    plt.yticks(tick_marks, classes)\n",
    "\n",
    "    if normalize:\n",
    "        cm = cm.astype('float') / cm.sum(axis=1)[:, np.newaxis]\n",
    "        print(\"Normalized confusion matrix\")\n",
    "    else:\n",
    "        print('Confusion matrix, without normalization')\n",
    "\n",
    "    print(cm)\n",
    "\n",
    "    thresh = cm.max() / 2.\n",
    "#     for i, j in itertools.product(range(cm.shape[0]), range(cm.shape[1])):\n",
    "#         plt.text(j, i, cm[i, j],\n",
    "#                  horizontalalignment=\"center\",\n",
    "#                  color=\"white\" if cm[i, j] > thresh else \"black\")\n",
    "\n",
    "    plt.imshow(cm, interpolation='nearest', cmap=cmap)\n",
    "    plt.title(title)\n",
    "    plt.colorbar()\n",
    "\n",
    "    plt.tight_layout()\n",
    "    plt.ylabel('True label')\n",
    "    plt.xlabel('Predicted label')"
   ]
  },
  {
   "cell_type": "code",
   "execution_count": 212,
   "metadata": {
    "collapsed": false
   },
   "outputs": [],
   "source": [
    "import re\n",
    "import string\n",
    "\n",
    "\n",
    "def decode_unicode(X, y):\n",
    "    for idx, text in enumerate(X):\n",
    "        X[idx] = text.decode('utf-8')\n",
    "    return X, y\n",
    "\n",
    "\n",
    "def remove_newline_char(X, y):\n",
    "    for idx, text in enumerate(X):\n",
    "        X[idx] = text.replace(r'\\n', ' ')\n",
    "    return X, y\n",
    "\n",
    "\n",
    "def remove_RT(X, y):\n",
    "    for idx, text in enumerate(X):\n",
    "        X[idx] = text.replace('RT', '')\n",
    "    return X, y\n",
    "\n",
    "\n",
    "def remove_urls(X, y):\n",
    "    pattern = 'http\\S+'\n",
    "    p = re.compile(pattern)\n",
    "    for idx, text in enumerate(X):\n",
    "        if p.search(text):\n",
    "            X[idx] = p.sub('', text)\n",
    "    return X, y\n",
    "\n",
    "\n",
    "def remove_handles(X, y):\n",
    "    pattern = '@[a-z,A-Z]*'\n",
    "    p = re.compile(pattern)\n",
    "    for idx, text in enumerate(X):\n",
    "        if p.search(text):\n",
    "            X[idx] = p.sub('', text)\n",
    "    return X, y\n",
    "\n",
    "\n",
    "def remove_hashtags(X, y):\n",
    "    pattern = '#[a-z,A-Z]*'\n",
    "    p = re.compile(pattern)\n",
    "    for idx, text in enumerate(X):\n",
    "        if p.search(text):\n",
    "            X[idx] = p.sub('', text)\n",
    "    return X, y\n",
    "\n",
    "\n",
    "def remove_punctutation(X, y):\n",
    "    for idx, text in enumerate(X):\n",
    "        X[idx] = text.translate(None, string.punctuation)\n",
    "    return X, y\n",
    "\n",
    "\n",
    "def remove_digits(X, y):\n",
    "    for idx, text in enumerate(X):\n",
    "        X[idx] = text.translate(None, string.digits)\n",
    "    return X, y\n",
    "\n",
    "\n",
    "def truncate(X, y, trunc_length=140):\n",
    "    return [text[:trunc_length] for text in X], y\n",
    "\n",
    "\n",
    "def remove_html_garbage(X,y):\n",
    "    filt = [r'&lt', r'&gt;', r'&amp;']\n",
    "    for indx, text in enumerate(X):\n",
    "        for f in filt:\n",
    "            text = text.replace(f, '')\n",
    "        X[indx] = text\n",
    "    return X, y\n",
    "\n",
    "def remove_emojis(X, y, emojis):\n",
    "    for idx, x in enumerate(X):\n",
    "        for emoji in emojis:\n",
    "            x = x.replace(emoji, '')\n",
    "        X[idx] = x\n",
    "    return X, y\n"
   ]
  },
  {
   "cell_type": "code",
   "execution_count": 213,
   "metadata": {
    "collapsed": false
   },
   "outputs": [],
   "source": [
    "def filt_by_lang(X, y, langs, exclude=False):\n",
    "    def predicate(lang):\n",
    "        if exclude:\n",
    "            return lang not in langs\n",
    "        return lang in langs\n",
    "\n",
    "    indices = []\n",
    "    for idx, lang in enumerate(y):\n",
    "        if predicate(lang):\n",
    "            indices.append(idx)\n",
    "    return [X[i] for i in indices], [y[i] for i in indices]\n",
    "\n",
    "def filt_long_length(X, y, max_length=140):\n",
    "    indices = []\n",
    "    for idx, tweet in enumerate(X):\n",
    "        if len(tweet) <= max_length:\n",
    "            indices.append(idx)\n",
    "    return [X[i] for i in indices], [y[i] for i in indices]\n",
    "\n",
    "def filt_short_length(X, y, min_length=5):\n",
    "    indices = []\n",
    "    for idx, tweet in enumerate(X):\n",
    "        if len(tweet) >= min_length:\n",
    "            indices.append(idx)\n",
    "    return [X[i] for i in indices], [y[i] for i in indices]\n",
    "\n",
    "def change_lang(X, y):\n",
    "    for idx, lang in enumerate(y):\n",
    "        if lang in ['hr', 'sr', 'bs']:\n",
    "            y[idx] = 'hr'\n",
    "    return X, y\n",
    "\n",
    "def by_thres(X, y, n, thres_type='at_least'):\n",
    "    '''types: at_least, at_most, exactly'''\n",
    "\n",
    "    if thres_type not in ['at_least', 'at_most', 'exactly']:\n",
    "        thres_type = 'at_least'\n",
    "\n",
    "    def predicate(v):\n",
    "        if thres_type in ['at_least', 'exactly']:\n",
    "            return v >= n\n",
    "        return v <= n\n",
    "\n",
    "    indices = []\n",
    "    lang_counts = dict(collections.Counter(y))\n",
    "    lang_counts = {k: v for k, v in lang_counts.iteritems() if predicate(v)}\n",
    "    if thres_type == 'exactly':\n",
    "        lang_counts = {k: n for k in lang_counts}\n",
    "    for idx, lang in enumerate(y):\n",
    "        if lang in lang_counts:\n",
    "            if lang_counts[lang] == 0:\n",
    "                continue\n",
    "            indices.append(idx)\n",
    "            lang_counts[lang] -= 1\n",
    "    return [X[i] for i in indices], [y[i] for i in indices]"
   ]
  },
  {
   "cell_type": "code",
   "execution_count": 214,
   "metadata": {
    "collapsed": false
   },
   "outputs": [],
   "source": [
    "import cPickle as pickle\n",
    "with open('../data/emoji_unicode.pkl', 'rb') as f:\n",
    "    emojis = pickle.load(f)"
   ]
  },
  {
   "cell_type": "code",
   "execution_count": 215,
   "metadata": {
    "collapsed": false,
    "scrolled": true
   },
   "outputs": [],
   "source": [
    "dm = DataManager(RECALL_TSV, RECALL_DATA, LANG_CODES)\n",
    "dm.initialize(shuffle=True, splits=(0.70, 0.15, 0.15))"
   ]
  },
  {
   "cell_type": "code",
   "execution_count": 307,
   "metadata": {
    "collapsed": false
   },
   "outputs": [],
   "source": [
    "'''\n",
    "Tromp, E., and M. Pechenizkiy.\n",
    "\"Graph-Based N-gram Language Identification on Short Texts.\"\n",
    "Proceedings of the 20th Machine Learning conference of\n",
    "    Belgium and The Netherlands (2011): 27-34.\n",
    "\n",
    "\n",
    "Python implementation of Java code found at: https://github.com/ErikTromp/LIGA/\n",
    "'''\n",
    "\n",
    "from __future__ import division\n",
    "import numpy as np\n",
    "\n",
    "class LIGA(object):\n",
    "    \n",
    "    def __init__(self, X_train, y_train):\n",
    "        self.X_train = X_train\n",
    "        self.y_train = y_train\n",
    "        self.initialized = False\n",
    "        \n",
    "    def _get_ngrams(self, X, n, analyzer, tokenizer):\n",
    "        ngrams = []\n",
    "        for t in X:\n",
    "            if analyzer == 'word':\n",
    "                t = tokenizer(t) if tokenizer else t.split()\n",
    "            ngrams.append([t[i:i+n] for i in xrange(len(t)-n+1)])\n",
    "        return ngrams\n",
    "    \n",
    "    def _add_vertices(self, N):\n",
    "        vertices = {}\n",
    "        for idx, ngrams in enumerate(N):\n",
    "            for ngram in ngrams:\n",
    "                l = self.y_train[idx]\n",
    "                if ngram not in vertices:\n",
    "                    vertices[ngram] = {}\n",
    "                if l not in vertices[ngram]:\n",
    "                    vertices[ngram][l] = 0\n",
    "                vertices[ngram][l] += 1\n",
    "                self.counter[l]['vertices'] += 1\n",
    "        return vertices\n",
    "    \n",
    "    def _add_edges(self, N):\n",
    "        edges = {k: {} for k in self.vertices}\n",
    "        for idx, ngrams in enumerate(N):\n",
    "            l = self.y_train[idx]\n",
    "            for i in xrange(len(ngrams) - 1):\n",
    "                src = ngrams[i]\n",
    "                tar = ngrams[i + 1]\n",
    "                if tar not in edges[src]:\n",
    "                    edges[src][tar] = {}\n",
    "                if l not in edges[src][tar]:\n",
    "                    edges[src][tar][l] = 0\n",
    "                edges[src][tar][l] += 1\n",
    "                self.counter[l]['edges'] += 1\n",
    "        return edges\n",
    "    \n",
    "    def _recursive_path_matching(self, path, scores, curr_depth, max_depth):\n",
    "        if curr_depth > max_depth or len(path) == 0:\n",
    "            return scores\n",
    "        if len(path) == 1:\n",
    "            ngram = path[0]\n",
    "            if ngram in self.vertices:\n",
    "                for l, weight in self.vertices[ngram].iteritems():\n",
    "                    if l not in scores:\n",
    "                        scores[l] = 0.0\n",
    "                    # scores[l] += (weight / self.counter[l]['edges'])\n",
    "                    scores[l] += (weight / self.counter[l]['vertices'])\n",
    "            return scores\n",
    "        src = path[0]\n",
    "        tar = path[1]\n",
    "        if src in self.vertices:\n",
    "            for l, weight in self.vertices[src].iteritems():\n",
    "                if l not in scores:\n",
    "                    scores[l] = 0.0\n",
    "                # scores[l] += (weight / self.counter[l]['edges'])\n",
    "                scores[l] += (weight / self.counter[l]['vertices'])\n",
    "            if src in self.edges:\n",
    "                if tar in self.edges[src]:\n",
    "                    for l, weight in self.edges[src][tar].iteritems():\n",
    "                        if l not in scores:\n",
    "                            scores[l] = 0.0\n",
    "                        # scores[l] += (weight / self.counter[l]['vertices'])\n",
    "                        scores[l] += (weight / self.counter[l]['edges'])\n",
    "        path = path[1:]\n",
    "        return self._recursive_path_matching(path, scores, curr_depth + 1, max_depth)\n",
    "        \n",
    "    def _path_matching(self, ngrams):\n",
    "        scores = {}\n",
    "        depth = 0\n",
    "        max_depth = 1000\n",
    "        return self._recursive_path_matching(ngrams, scores, depth, max_depth)\n",
    "    \n",
    "    def _prediction(self, scores, top_pred):\n",
    "        if top_pred > len(scores):\n",
    "            top_pred = len(scores)\n",
    "        langs = []\n",
    "        vals = []\n",
    "        for k, v in scores.iteritems():\n",
    "            langs.append(k)\n",
    "            vals.append(v)\n",
    "        vals = np.array(vals)\n",
    "        indices = np.argsort(vals)[::-1]\n",
    "        # top_scores = {}\n",
    "        top_scores = []\n",
    "        for i in xrange(top_pred):\n",
    "            idx = indices[i]\n",
    "            # top_scores[langs[idx]] = vals[idx]\n",
    "            top_scores.append((langs[idx], vals[idx]))\n",
    "        return top_scores\n",
    "\n",
    "    def initialize(self):\n",
    "        try:\n",
    "            decode_unicode(self.X_train, self.y_train)\n",
    "        except UnicodeEncodeError:\n",
    "            # already decoded\n",
    "            pass\n",
    "        self.counter = {}\n",
    "        for l in y:\n",
    "            if l not in self.counter:\n",
    "                self.counter[l] = {'vertices': 0, 'edges': 0}\n",
    "        self.initialized = True\n",
    "\n",
    "    def learn_model(self, n=2, analyzer='char', tokenizer=None):\n",
    "        if not self.initialized:\n",
    "            self.initialize()\n",
    "        self.n = n\n",
    "        self.analyzer = analyzer\n",
    "        self.tokenizer = tokenizer\n",
    "        N = self._get_ngrams(self.X_train, n, analyzer, tokenizer)\n",
    "        self.vertices = self._add_vertices(N)\n",
    "        self.edges = self._add_edges(N)\n",
    "        \n",
    "    def classify(self, X_test, top_preds=5):\n",
    "        N = self._get_ngrams(X_test, self.n, self.analyzer, self.tokenizer)\n",
    "        pred = []\n",
    "        for ngrams in N:\n",
    "            scores = self._path_matching(ngrams)\n",
    "            if scores:\n",
    "                top_scores = self._prediction(scores, top_preds)\n",
    "            else:\n",
    "                top_scores = [('UNKNOWN', -1.0)]\n",
    "            pred.append(top_scores)\n",
    "        return pred\n",
    "        "
   ]
  },
  {
   "cell_type": "code",
   "execution_count": 323,
   "metadata": {
    "collapsed": false
   },
   "outputs": [
    {
     "name": "stdout",
     "output_type": "stream",
     "text": [
      "0.783720930233\n"
     ]
    }
   ],
   "source": [
    "X_train, y_train = expt.X_train_text, expt.y_train_text\n",
    "liga = LIGA(X_train, y_train)\n",
    "liga.learn_model(n=3, analyzer='char')\n",
    "\n",
    "X_test, y_test = expt.X_test_text, expt.y_test_text\n",
    "scores = liga.classify(X_test, top_preds=3)\n",
    "total = len(scores)\n",
    "correct = 0\n",
    "preds = []\n",
    "for idx, score in enumerate(scores):\n",
    "#     print y_test[idx], score\n",
    "    preds.append(score[0][0])\n",
    "    if y_test[idx] == score[0][0]:\n",
    "        correct += 1\n",
    "print correct / total"
   ]
  },
  {
   "cell_type": "code",
   "execution_count": 314,
   "metadata": {
    "collapsed": false,
    "scrolled": true
   },
   "outputs": [],
   "source": [
    "import sklearn.naive_bayes\n",
    "\n",
    "identity = lambda x: np.array(x)\n",
    "# vectorizer = TfidfVectorizer(sublinear_tf=True,\n",
    "#                              smooth_idf=True,\n",
    "#                              ngram_range=(1, 2),\n",
    "#                              analyzer='word')\n",
    "vectorizer = TfidfVectorizer(sublinear_tf=True,\n",
    "                             smooth_idf=True,\n",
    "                             ngram_range=(1, 2),\n",
    "                             analyzer='char')\n",
    "\n",
    "vectorizer1 = TfidfVectorizer(sublinear_tf=True,\n",
    "                             smooth_idf=True,\n",
    "                             ngram_range=(1, 2),\n",
    "                             analyzer='word')\n",
    "\n",
    "# vectorizer = \\\n",
    "#     sklearn.feature_extraction.text.CountVectorizer(ngram_range=(1, 2),\n",
    "#                                                     analyzer='word')\n",
    "\n",
    "\n",
    "classifier = \\\n",
    "sklearn.linear_model.SGDClassifier(loss=\"log\",\n",
    "                                   penalty=\"elasticnet\",\n",
    "                                   n_iter=5)\n",
    "\n",
    "# classifier = \\\n",
    "#     sklearn.neighbors.KNeighborsClassifier(n_neighbors=5)\n",
    "\n",
    "# classifier = \\\n",
    "#     sklearn.naive_bayes.GaussianNB()\n",
    "\n",
    "clean_ops = [\n",
    "    decode_unicode, remove_newline_char, remove_RT, remove_urls,\n",
    "    remove_handles, remove_hashtags, remove_html_garbage, (remove_emojis, {'emojis': emojis}), truncate\n",
    "]\n",
    "\n",
    "langs = ['es', 'fr', 'pt', 'ro', 'it', 'ca']\n",
    "# langs = ['sr', 'bs', 'hr']\n",
    "# langs = ['zh-CN', 'zh-TW', 'vi']\n",
    "# langs = ['en', 'zh-CN']\n",
    "# langs = ['ms']\n",
    "\n",
    "filter_ops = [\n",
    "    (filt_by_lang, {'langs': langs, 'exclude': False}),\n",
    "    filt_short_length\n",
    "]\n",
    "\n",
    "# filter_ops = [\n",
    "#     filt_short_length, (filt_by_lang, {'langs': langs, 'exclude': True})\n",
    "# ]\n",
    "\n",
    "# filter_ops = [\n",
    "#     filt_long_length, filt_short_length,\n",
    "#     (filt_by_lang, {'langs': langs}), (by_thres, {'n': 100, 'thres_type': 'exactly'})\n",
    "# ]\n",
    "\n",
    "empty_ops = []\n",
    "\n",
    "expt = Experiment(dm,\n",
    "                  classifier=classifier,\n",
    "                  cleaning_operations=clean_ops,\n",
    "                  filtering_operations=empty_ops,\n",
    "                  vectorizer=vectorizer,\n",
    "                  shuffle=True)\n",
    "expt.initialize()"
   ]
  },
  {
   "cell_type": "code",
   "execution_count": 70,
   "metadata": {
    "collapsed": false,
    "scrolled": true
   },
   "outputs": [
    {
     "name": "stdout",
     "output_type": "stream",
     "text": [
      "2944\n"
     ]
    }
   ],
   "source": [
    "fn = vectorizer.get_feature_names()\n",
    "print len(fn)\n",
    "# print fn\n",
    "# for k, v in vectorizer.vocabulary_.iteritems(): print k, v"
   ]
  },
  {
   "cell_type": "code",
   "execution_count": 71,
   "metadata": {
    "collapsed": false
   },
   "outputs": [
    {
     "name": "stdout",
     "output_type": "stream",
     "text": [
      "Number of features before stacking: 2944\n",
      "Number of features after stacking: 50300\n"
     ]
    }
   ],
   "source": [
    "expt.stack_features([vectorizer1])"
   ]
  },
  {
   "cell_type": "markdown",
   "metadata": {},
   "source": [
    "## DEV"
   ]
  },
  {
   "cell_type": "code",
   "execution_count": 316,
   "metadata": {
    "collapsed": false,
    "scrolled": true
   },
   "outputs": [
    {
     "name": "stdout",
     "output_type": "stream",
     "text": [
      "0.860614307932\n",
      "[[182   0   0 ...,   0   0   0]\n",
      " [  0 168   0 ...,   0   0   0]\n",
      " [  0   0 130 ...,   0   0   0]\n",
      " ..., \n",
      " [  0   0   0 ...,  78   0   0]\n",
      " [  0   0   0 ...,   0 161   0]\n",
      " [  0   0   0 ...,   0   0 227]]\n",
      "{0: 'el', 1: 'gu', 2: 'en', 3: 'ug', 4: 'vi', 5: 'ca', 6: 'am', 7: 'it', 8: 'kn', 9: 'cs', 10: 'cy', 11: 'ar', 12: 'ml', 13: 'eu', 14: 'et', 15: 'id', 16: 'es', 17: 'ps', 18: 'nl', 19: 'pt', 20: 'no', 21: 'lo', 22: 'tr', 23: 'ne', 24: 'lv', 25: 'si', 26: 'lt', 27: 'pa', 28: 'th', 29: 'ro', 30: 'is', 31: 'hi-Latn', 32: 'ta', 33: 'fr', 34: 'bg', 35: 'sl', 36: 'hr', 37: 'bn', 38: 'bo', 39: 'ht', 40: 'da', 41: 'zh-CN', 42: 'fa', 43: 'hi', 44: 'bs', 45: 'dv', 46: 'fi', 47: 'hy', 48: 'hu', 49: 'ja', 50: 'he', 51: 'ka', 52: 'tl', 53: 'ckb', 54: 'sr', 55: 'ko', 56: 'sv', 57: 'km', 58: 'ur', 59: 'sk', 60: 'te', 61: 'de', 62: 'pl', 63: 'uk', 64: 'zh-TW', 65: 'ru', 66: 'mr', 67: 'my', 68: 'sd'}\n"
     ]
    }
   ],
   "source": [
    "expt.fit_and_validate()\n",
    "print sklearn.metrics.accuracy_score(expt.y_dev, expt.dev_predictions)\n",
    "print sklearn.metrics.confusion_matrix(expt.y_dev, expt.dev_predictions)\n",
    "print expt.num_to_lang"
   ]
  },
  {
   "cell_type": "code",
   "execution_count": 74,
   "metadata": {
    "collapsed": false
   },
   "outputs": [
    {
     "name": "stdout",
     "output_type": "stream",
     "text": [
      "Using matplotlib backend: TkAgg\n",
      "Normalized confusion matrix\n",
      "[[ 0.96202532  0.00632911  0.          0.01265823  0.00632911  0.01265823]\n",
      " [ 0.01315789  0.92763158  0.          0.00657895  0.00657895  0.04605263]\n",
      " [ 0.02586207  0.01724138  0.90517241  0.          0.00862069  0.04310345]\n",
      " [ 0.01204819  0.          0.01204819  0.93373494  0.01204819  0.03012048]\n",
      " [ 0.01801802  0.01801802  0.01801802  0.03603604  0.90990991  0.        ]\n",
      " [ 0.00529101  0.02116402  0.01058201  0.05291005  0.00529101  0.9047619 ]]\n"
     ]
    }
   ],
   "source": [
    "%matplotlib\n",
    "cm = sklearn.metrics.confusion_matrix(expt.y_dev, expt.dev_predictions)\n",
    "cm = cm.astype('float') / cm.sum(axis=1)[:, np.newaxis]\n",
    "plt.figure()\n",
    "plot_confusion_matrix(cm, [expt.num_to_lang[k] for k in xrange(6)], normalize=True)\n",
    "plt.show()"
   ]
  },
  {
   "cell_type": "code",
   "execution_count": 55,
   "metadata": {
    "collapsed": false
   },
   "outputs": [
    {
     "name": "stdout",
     "output_type": "stream",
     "text": [
      "22 / 69 underperformed (below 0.7 accuracy)\n",
      "['en', 'ca', 'cs', 'et', 'es', 'nl', 'pt', 'lt', 'pa', 'ro', 'hi-Latn', 'fr', 'sl', 'hr', 'ht', 'da', 'zh-CN', 'bs', 'tl', 'sr', 'sv', 'ur']\n"
     ]
    }
   ],
   "source": [
    "diags = cm.diagonal()\n",
    "thres = 0.70\n",
    "under_peformed = [expt.num_to_lang[i] for i in np.where(diags < thres)[0]]\n",
    "print('{} / {} underperformed (below {} accuracy)'.format(len(under_peformed), len(diags), thres))\n",
    "print under_peformed"
   ]
  },
  {
   "cell_type": "markdown",
   "metadata": {},
   "source": [
    "## TEST"
   ]
  },
  {
   "cell_type": "code",
   "execution_count": 56,
   "metadata": {
    "collapsed": false
   },
   "outputs": [
    {
     "name": "stdout",
     "output_type": "stream",
     "text": [
      "0.785949612403\n",
      "[[181   0   0 ...,   0   0   0]\n",
      " [  0 168   0 ...,   0   0   0]\n",
      " [  0   0  76 ...,   0   0   0]\n",
      " ..., \n",
      " [  0   0   0 ...,  79   0   0]\n",
      " [  0   0   0 ...,   0 160   0]\n",
      " [  0   0   1 ...,   0   0 226]]\n",
      "0.788312524723\n",
      "0.785949612403\n",
      "0.816128440871\n",
      "{0: 'el', 1: 'gu', 2: 'en', 3: 'ug', 4: 'vi', 5: 'ca', 6: 'am', 7: 'it', 8: 'kn', 9: 'cs', 10: 'cy', 11: 'ar', 12: 'ml', 13: 'eu', 14: 'et', 15: 'id', 16: 'es', 17: 'ps', 18: 'nl', 19: 'pt', 20: 'no', 21: 'lo', 22: 'tr', 23: 'ne', 24: 'lv', 25: 'si', 26: 'lt', 27: 'pa', 28: 'th', 29: 'ro', 30: 'is', 31: 'hi-Latn', 32: 'ta', 33: 'fr', 34: 'bg', 35: 'sl', 36: 'hr', 37: 'bn', 38: 'bo', 39: 'ht', 40: 'da', 41: 'zh-CN', 42: 'fa', 43: 'hi', 44: 'bs', 45: 'dv', 46: 'fi', 47: 'hy', 48: 'hu', 49: 'ja', 50: 'he', 51: 'ka', 52: 'tl', 53: 'ckb', 54: 'sr', 55: 'ko', 56: 'sv', 57: 'km', 58: 'ur', 59: 'sk', 60: 'te', 61: 'de', 62: 'pl', 63: 'uk', 64: 'zh-TW', 65: 'ru', 66: 'mr', 67: 'my', 68: 'sd'}\n"
     ]
    }
   ],
   "source": [
    "expt.test_results()\n",
    "print sklearn.metrics.accuracy_score(expt.y_test, expt.test_predictions)\n",
    "print sklearn.metrics.confusion_matrix(expt.y_test, expt.test_predictions)\n",
    "print sklearn.metrics.f1_score(expt.y_test, expt.test_predictions, average='weighted')\n",
    "print sklearn.metrics.recall_score(expt.y_test, expt.test_predictions, average='weighted')\n",
    "print sklearn.metrics.precision_score(expt.y_test, expt.test_predictions, average='weighted')\n",
    "print expt.num_to_lang"
   ]
  },
  {
   "cell_type": "code",
   "execution_count": 57,
   "metadata": {
    "collapsed": false
   },
   "outputs": [
    {
     "name": "stdout",
     "output_type": "stream",
     "text": [
      "Normalized confusion matrix\n",
      "[[ 0.98907104  0.          0.00546448 ...,  0.          0.          0.        ]\n",
      " [ 0.          0.97660819  0.         ...,  0.          0.          0.        ]\n",
      " [ 0.          0.          0.44966443 ...,  0.          0.          0.        ]\n",
      " ..., \n",
      " [ 0.          0.          0.         ...,  0.73333333  0.          0.        ]\n",
      " [ 0.          0.          0.         ...,  0.          0.98773006  0.        ]\n",
      " [ 0.          0.          0.         ...,  0.          0.          0.93617021]]\n"
     ]
    }
   ],
   "source": [
    "cm = sklearn.metrics.confusion_matrix(expt.y_dev, expt.dev_predictions)\n",
    "cm = cm.astype('float') / cm.sum(axis=1)[:, np.newaxis]\n",
    "plt.figure()\n",
    "plot_confusion_matrix(cm, [expt.num_to_lang[k] for k in xrange(2)], normalize=True)\n",
    "plt.show()"
   ]
  },
  {
   "cell_type": "code",
   "execution_count": 58,
   "metadata": {
    "collapsed": false
   },
   "outputs": [
    {
     "name": "stdout",
     "output_type": "stream",
     "text": [
      "8 / 69 underperformed (below 0.5 accuracy)\n",
      "['en', 'ca', 'nl', 'pt', 'da', 'zh-CN', 'bs', 'tl']\n"
     ]
    }
   ],
   "source": [
    "diags = cm.diagonal()\n",
    "thres = 0.50\n",
    "under_peformed = [expt.num_to_lang[i] for i in np.where(diags < thres)[0]]\n",
    "print('{} / {} underperformed (below {} accuracy)'.format(len(under_peformed), len(diags), thres))\n",
    "print under_peformed"
   ]
  },
  {
   "cell_type": "markdown",
   "metadata": {},
   "source": [
    "## Test on Precision"
   ]
  },
  {
   "cell_type": "code",
   "execution_count": 19,
   "metadata": {
    "collapsed": false
   },
   "outputs": [
    {
     "name": "stdout",
     "output_type": "stream",
     "text": [
      "Using vectorizer fitted elsewhere\n",
      "9943\n",
      "(9943, 6427)\n",
      "Using classifier fitted elsewhere\n",
      "0.629890375138\n",
      "[[ 1.          0.          0.         ...,  0.          0.          0.        ]\n",
      " [ 0.          0.38210746  0.         ...,  0.          0.          0.        ]\n",
      " [ 0.          0.          1.         ...,  0.          0.          0.        ]\n",
      " ..., \n",
      " [ 0.          0.          0.         ...,  0.74747475  0.          0.        ]\n",
      " [ 0.          0.          0.         ...,  0.          1.          0.        ]\n",
      " [        nan         nan         nan ...,         nan         nan\n",
      "          nan]]\n",
      "{0: 'el', 1: 'en', 2: 'vi', 3: 'ca', 4: 'it', 5: 'cs', 6: 'cy', 7: 'ar', 8: 'eu', 9: 'et', 10: 'id', 11: 'es', 12: 'ru', 13: 'sr', 14: 'nl', 15: 'pt', 16: 'no', 17: 'tr', 18: 'ne', 19: 'lv', 20: 'tl', 21: 'lt', 22: 'th', 23: 'ro', 24: 'is', 25: 'hi-Latn', 26: 'ta', 27: 'fr', 28: 'bg', 29: 'ps', 30: 'hr', 31: 'bn', 32: 'de', 33: 'ht', 34: 'da', 35: 'fa', 36: 'hi', 37: 'bs', 38: 'dv', 39: 'fi', 40: 'hy', 41: 'hu', 42: 'ja', 43: 'he', 44: 'zh-TW', 45: 'ko', 46: 'sv', 47: 'km', 48: 'ur', 49: 'sk', 50: 'zh-CN', 51: 'si', 52: 'pl', 53: 'uk', 54: 'sl', 55: 'mr'}\n",
      "Normalized confusion matrix\n",
      "[[ 1.          0.          0.         ...,  0.          0.          0.        ]\n",
      " [ 0.          0.38210746  0.         ...,  0.          0.          0.        ]\n",
      " [ 0.          0.          1.         ...,  0.          0.          0.        ]\n",
      " ..., \n",
      " [ 0.          0.          0.         ...,  0.74747475  0.          0.        ]\n",
      " [ 0.          0.          0.         ...,  0.          1.          0.        ]\n",
      " [        nan         nan         nan ...,         nan         nan\n",
      "          nan]]\n"
     ]
    },
    {
     "name": "stderr",
     "output_type": "stream",
     "text": [
      "/usr/local/lib/python2.7/dist-packages/ipykernel/__main__.py:35: RuntimeWarning: invalid value encountered in divide\n"
     ]
    },
    {
     "data": {
      "image/png": "[encoded data removed]",
      "text/plain": [
       "<matplotlib.figure.Figure at 0x7fcdf2180bd0>"
      ]
     },
     "metadata": {},
     "output_type": "display_data"
    },
    {
     "name": "stdout",
     "output_type": "stream",
     "text": [
      "20 / 53 underperformed (below 0.8 accuracy)\n",
      "['gu', 'ug', 'cy', 'ar', 'ml', 'eu', 'id', 'ps', 'tr', 'lv', 'pa', 'ro', 'is', 'hi-Latn', 'ta', 'bg', 'da', 'zh-CN', 'hi', 'he']\n",
      "0.6318004208\n",
      "[[   8    0    0 ...,    0    0    0]\n",
      " [   0 1490    2 ...,    0    0    0]\n",
      " [   0    0    4 ...,    0    0    0]\n",
      " ..., \n",
      " [   0    0    0 ...,  160    0    0]\n",
      " [   0    0    0 ...,    0    1    0]\n",
      " [   0    0    0 ...,    0    0    0]]\n",
      "{0: 'el', 1: 'en', 2: 'vi', 3: 'ca', 4: 'it', 5: 'cs', 6: 'cy', 7: 'ar', 8: 'eu', 9: 'et', 10: 'id', 11: 'es', 12: 'ru', 13: 'sr', 14: 'nl', 15: 'pt', 16: 'no', 17: 'tr', 18: 'ne', 19: 'lv', 20: 'tl', 21: 'lt', 22: 'th', 23: 'ro', 24: 'is', 25: 'hi-Latn', 26: 'ta', 27: 'fr', 28: 'bg', 29: 'ps', 30: 'hr', 31: 'bn', 32: 'de', 33: 'ht', 34: 'da', 35: 'fa', 36: 'hi', 37: 'bs', 38: 'dv', 39: 'fi', 40: 'hy', 41: 'hu', 42: 'ja', 43: 'he', 44: 'zh-TW', 45: 'ko', 46: 'sv', 47: 'km', 48: 'ur', 49: 'sk', 50: 'zh-CN', 51: 'si', 52: 'pl', 53: 'uk', 54: 'sl', 55: 'mr'}\n",
      "Normalized confusion matrix\n",
      "[[ 1.          0.          0.         ...,  0.          0.          0.        ]\n",
      " [ 0.          0.38210746  0.         ...,  0.          0.          0.        ]\n",
      " [ 0.          0.          1.         ...,  0.          0.          0.        ]\n",
      " ..., \n",
      " [ 0.          0.          0.         ...,  0.74747475  0.          0.        ]\n",
      " [ 0.          0.          0.         ...,  0.          1.          0.        ]\n",
      " [        nan         nan         nan ...,         nan         nan\n",
      "          nan]]\n"
     ]
    },
    {
     "name": "stderr",
     "output_type": "stream",
     "text": [
      "/usr/local/lib/python2.7/dist-packages/ipykernel/__main__.py:57: RuntimeWarning: invalid value encountered in divide\n"
     ]
    },
    {
     "data": {
      "image/png": "[encoded data removed]",
      "text/plain": [
       "<matplotlib.figure.Figure at 0x7fcdf106e4d0>"
      ]
     },
     "metadata": {},
     "output_type": "display_data"
    },
    {
     "name": "stdout",
     "output_type": "stream",
     "text": [
      "20 / 53 underperformed (below 0.8 accuracy)\n",
      "['en', 'ca', 'id', 'es', 'ru', 'sr', 'pt', 'tr', 'th', 'is', 'fr', 'ps', 'hr', 'bn', 'de', 'da', 'hy', 'hu', 'he', 'zh-CN']\n"
     ]
    }
   ],
   "source": [
    "dm_p = DataManager(UNIFORM_TSV, UNIFORM_DATA, LANG_CODES)\n",
    "dm_p.initialize(shuffle=True, splits=(0.70, 0.15, 0.15))\n",
    "\n",
    "vectorizer_p = TfidfVectorizer(sublinear_tf=True,\n",
    "                             smooth_idf=True,\n",
    "                             ngram_range=(1, 2),\n",
    "                             analyzer='char')\n",
    "\n",
    "\n",
    "# filter_ops = [\n",
    "#     filt_long_length, filt_short_length,\n",
    "#     (filt_by_lang, {'langs_to_use': langs_to_use}), (by_thres, {'n': 50, 'thres_type': 'exactly'})\n",
    "# ]\n",
    "\n",
    "expt_p = Experiment(dm_p,\n",
    "                  classifier=classifier,\n",
    "                  cleaning_operations=clean_ops,\n",
    "                  filtering_operations=filter_ops,\n",
    "                  vectorizer=vectorizer,\n",
    "                  shuffle=True)\n",
    "\n",
    "expt_p.initialize()\n",
    "\n",
    "# expt_p.stack_features([vectorizer1])\n",
    "\n",
    "print len(expt_p.y_dev)\n",
    "print expt_p.X_dev.shape\n",
    "\n",
    "conv = lambda x: expt.lang_to_num[x]\n",
    "expt_p.y_dev = map(conv, expt_p.y_dev_text)\n",
    "expt_p.fit_and_validate()\n",
    "print sklearn.metrics.accuracy_score(expt_p.y_dev, expt_p.dev_predictions)\n",
    "\n",
    "cm_p = sklearn.metrics.confusion_matrix(expt_p.y_dev, expt_p.dev_predictions)\n",
    "cm_p = cm_p.astype('float') / cm_p.sum(axis=1)[:, np.newaxis]\n",
    "print cm_p\n",
    "print expt_p.num_to_lang\n",
    "\n",
    "plt.figure()\n",
    "plot_confusion_matrix(cm_p, [expt.num_to_lang[k] for k in xrange(2)], normalize=True)\n",
    "plt.show()\n",
    "\n",
    "diags = cm_p.diagonal()\n",
    "thres = 0.80\n",
    "under_peformed = [expt.num_to_lang[i] for i in np.where(diags < thres)[0]]\n",
    "print('{} / {} underperformed (below {} accuracy)'.format(len(under_peformed), len(diags), thres))\n",
    "print under_peformed\n",
    "\n",
    "conv = lambda x: expt.lang_to_num[x]\n",
    "expt_p.y_test = map(conv, expt_p.y_test_text)\n",
    "expt_p.test_results()\n",
    "print sklearn.metrics.accuracy_score(expt_p.y_test, expt_p.test_predictions)\n",
    "print sklearn.metrics.confusion_matrix(expt_p.y_test, expt_p.test_predictions)\n",
    "print expt_p.num_to_lang\n",
    "\n",
    "cm_p = sklearn.metrics.confusion_matrix(expt_p.y_dev, expt_p.dev_predictions)\n",
    "cm_p = cm_p.astype('float') / cm_p.sum(axis=1)[:, np.newaxis]\n",
    "plt.figure()\n",
    "plot_confusion_matrix(cm_p, [expt_p.num_to_lang[k] for k in xrange(2)], normalize=True)\n",
    "plt.show()\n",
    "\n",
    "diags = cm_p.diagonal()\n",
    "thres = 0.80\n",
    "under_peformed = [expt_p.num_to_lang[i] for i in np.where(diags < thres)[0]]\n",
    "print('{} / {} underperformed (below {} accuracy)'.format(len(under_peformed), len(diags), thres))\n",
    "print under_peformed"
   ]
  },
  {
   "cell_type": "markdown",
   "metadata": {},
   "source": [
    "## t-SNE"
   ]
  },
  {
   "cell_type": "code",
   "execution_count": 20,
   "metadata": {
    "collapsed": true
   },
   "outputs": [],
   "source": [
    "import time\n",
    "from sklearn import manifold, datasets\n",
    "from sklearn.decomposition import TruncatedSVD\n",
    "\n",
    "tsne = manifold.TSNE(n_components=2, init='pca', random_state=10)\n",
    "svd = TruncatedSVD(n_components=50, n_iter=7, random_state=42)\n",
    "X = svd.fit_transform(expt.X_test)"
   ]
  },
  {
   "cell_type": "code",
   "execution_count": 21,
   "metadata": {
    "collapsed": true
   },
   "outputs": [],
   "source": [
    "Y = tsne.fit_transform(X)"
   ]
  },
  {
   "cell_type": "code",
   "execution_count": 22,
   "metadata": {
    "collapsed": false
   },
   "outputs": [
    {
     "name": "stdout",
     "output_type": "stream",
     "text": [
      "Using matplotlib backend: TkAgg\n"
     ]
    }
   ],
   "source": [
    "%matplotlib\n",
    "plt.scatter(Y[:, 0], Y[:, 1], c=expt.y_test, cmap=plt.cm.Spectral)\n",
    "plt.axis('tight')\n",
    "plt.show()"
   ]
  },
  {
   "cell_type": "code",
   "execution_count": 23,
   "metadata": {
    "collapsed": false
   },
   "outputs": [
    {
     "name": "stdout",
     "output_type": "stream",
     "text": [
      "(10320, 50)\n",
      "(10320, 2)\n"
     ]
    }
   ],
   "source": [
    "print X.shape\n",
    "print Y.shape"
   ]
  }
 ],
 "metadata": {
  "kernelspec": {
   "display_name": "Python 2",
   "language": "python",
   "name": "python2"
  },
  "language_info": {
   "codemirror_mode": {
    "name": "ipython",
    "version": 2
   },
   "file_extension": ".py",
   "mimetype": "text/x-python",
   "name": "python",
   "nbconvert_exporter": "python",
   "pygments_lexer": "ipython2",
   "version": "2.7.12"
  }
 },
 "nbformat": 4,
 "nbformat_minor": 1
}
