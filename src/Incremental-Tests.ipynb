{
 "cells": [
  {
   "cell_type": "code",
   "execution_count": 1,
   "metadata": {
    "collapsed": true
   },
   "outputs": [],
   "source": [
    "from collections import Counter\n",
    "import numpy as np\n",
    "import Constants\n",
    "# from DataManager import DataError, DataManager\n",
    "# from Experiment import Experiment"
   ]
  },
  {
   "cell_type": "code",
   "execution_count": 2,
   "metadata": {
    "collapsed": true
   },
   "outputs": [],
   "source": [
    "RECALL_TSV = '../data/recall_oriented.tsv'\n",
    "PRECISION_TSV = '../data/precision_oriented.tsv'\n",
    "UNIFORM_TSV = '../data/uniformly_sampled.tsv'\n",
    "\n",
    "RECALL_DATA = '../data/hydrated_recall.json'\n",
    "PRECISION_DATA = '../data/hydrated_precision.json'\n",
    "UNIFORM_DATA = '../data/hydrated_uniform.json'\n",
    "\n",
    "LANG_CODES = '../data/lang_codes.txt'"
   ]
  },
  {
   "cell_type": "code",
   "execution_count": 3,
   "metadata": {
    "collapsed": false
   },
   "outputs": [],
   "source": [
    "class DataError(Exception):\n",
    "    def __init__(self, message):\n",
    "        self.message = message\n",
    "\n",
    "\n",
    "class DataManager(object):\n",
    "\n",
    "    def __init__(self,\n",
    "                 annotated_tsv=Constants.RECALL_TSV,\n",
    "                 retrieved_data=Constants.RECALL_DATA,\n",
    "                 lang_codes_file=Constants.LANG_CODES):\n",
    "        self.initialized = False\n",
    "        self.annotated_tsv = annotated_tsv\n",
    "        self.retrieved_data = retrieved_data\n",
    "        self.lang_codes_file = lang_codes_file\n",
    "\n",
    "    def initialize(self, splits=(0.60, 0.20, 0.20), shuffle=True):\n",
    "        if self.initialized:\n",
    "            return\n",
    "        self.lang_codes = self._load_lang_codes()\n",
    "        self.tweet_labels, self.canonical_inv_idx = \\\n",
    "            self._load_tweet_labels()\n",
    "        self.tweet_text, self.hydrated_inv_idx = self._load_tweet_text()\n",
    "        self._split_dataset(splits, shuffle)\n",
    "        self.initialized = True\n",
    "\n",
    "    def _split_dataset(self, splits, shuffle):\n",
    "        if type(splits) not in [list, tuple] or len(splits) != 3:\n",
    "            err_msg = 'splits should be collection (list or tuple) of length 3'\n",
    "            raise DataError(err_msg)\n",
    "        if sum(splits) != 1.0:\n",
    "            raise DataError('split percentages should sum to 1.0')\n",
    "\n",
    "        # percentage_split() code source: http://bit.ly/2buzsDm\n",
    "        def percentage_split(seq, percentages):\n",
    "            if shuffle:\n",
    "                np.random.shuffle(seq)\n",
    "            cdf = np.cumsum(percentages)\n",
    "            stops = map(int, cdf * len(seq))\n",
    "            return [seq[a:b] for a, b in zip([0] + stops, stops)]\n",
    "\n",
    "        self.X_train, self.y_train = [], []\n",
    "        self.X_dev, self.y_dev = [], []\n",
    "        self.X_test, self.y_test = [], []\n",
    "        for lang in self.hydrated_inv_idx:\n",
    "            if lang not in self.lang_codes:\n",
    "                continue\n",
    "            tweet_ids = list(self.hydrated_inv_idx[lang])\n",
    "            train, dev, test = percentage_split(tweet_ids, splits)\n",
    "            self.X_train += [self.tweet_text[t] for t in train]\n",
    "            self.y_train += [lang] * len(train)\n",
    "            self.X_dev += [self.tweet_text[t] for t in dev]\n",
    "            self.y_dev += [lang] * len(dev)\n",
    "            self.X_test += [self.tweet_text[t] for t in test]\n",
    "            self.y_test += [lang] * len(test)\n",
    "\n",
    "    def _load_lang_codes(self):\n",
    "        lang_codes = set()\n",
    "        with open(self.lang_codes_file) as fp:\n",
    "            for line in fp:\n",
    "                lang_codes.add(line.strip())\n",
    "        return lang_codes\n",
    "\n",
    "    def _update_inverted_index(self, inv_idx, lang, tweet_id):\n",
    "        if lang in inv_idx:\n",
    "            inv_idx[lang].add(tweet_id)\n",
    "        else:\n",
    "            inv_idx[lang] = set([tweet_id])\n",
    "        return inv_idx\n",
    "\n",
    "    def _load_tweet_labels(self):\n",
    "        D = {}\n",
    "        inv_idx = {}\n",
    "        with open(self.annotated_tsv) as tsv:\n",
    "            for line in tsv:\n",
    "                t_lang, t_id = line.strip().split('\\t')\n",
    "                D[t_id] = t_lang\n",
    "                self._update_inverted_index(inv_idx, t_lang, t_id)\n",
    "        return D, inv_idx\n",
    "\n",
    "    def _load_tweet_text(self):\n",
    "        D = {}\n",
    "        inv_idx = {}\n",
    "        with open(self.retrieved_data) as fp:\n",
    "            for line in fp:\n",
    "                stripped = line.strip()[2:-2]  # remove quotes and brackets\n",
    "                t_id, t_text = stripped.split('\\\",\\\"')\n",
    "                D[t_id] = t_text\n",
    "                self._update_inverted_index(inv_idx,\n",
    "                                            self.tweet_labels[t_id],\n",
    "                                            t_id)\n",
    "        return D, inv_idx\n",
    "\n",
    "    def training_data(self):\n",
    "        if not self.initialized:\n",
    "            raise DataError('Must call initialize() first')\n",
    "        return self.X_train[:], self.y_train[:]\n",
    "\n",
    "    def dev_data(self):\n",
    "        if not self.initialized:\n",
    "            raise DataError('Must call initialize() first')\n",
    "        return self.X_dev[:], self.y_dev[:]\n",
    "\n",
    "    def test_data(self):\n",
    "        if not self.initialized:\n",
    "            raise DataError('Must call initialize() first')\n",
    "        return self.X_test[:], self.y_test[:]\n",
    "\n",
    "    def hydrated_diff(self):\n",
    "        if not self.initialized:\n",
    "            raise DataError('Must call initialize() first')\n",
    "        for lang in self.lang_codes:\n",
    "            try:\n",
    "                diff = (len(self.canonical_inv_idx[lang]) -\n",
    "                        len(self.hydrated_inv_idx[lang]))\n",
    "            except KeyError:\n",
    "                diff = None\n",
    "            print('{}: {}'.format(lang, diff))\n"
   ]
  },
  {
   "cell_type": "code",
   "execution_count": 57,
   "metadata": {
    "collapsed": true
   },
   "outputs": [],
   "source": [
    "import numpy as np\n",
    "import sklearn.linear_model\n",
    "from sklearn.feature_extraction.text import TfidfVectorizer\n",
    "\n",
    "\n",
    "class Experiment(object):\n",
    "    '''\n",
    "    Organize the process of getting data, building a classifier,\n",
    "    and exploring new representations. Modified from and credit to:\n",
    "    Matthew Stone, CS 533, Spring 2017 - Classifier Patterns\n",
    "    '''\n",
    "\n",
    "    def __init__(self,\n",
    "                 data_manager,\n",
    "                 classifier,\n",
    "                 cleaning_operations,\n",
    "                 filtering_operations,\n",
    "                 vectorizer,\n",
    "                 shuffle=False,\n",
    "                 seed=None):\n",
    "        # TODO: Change name/defaults of some of these parameters\n",
    "        '''set up the problem of learning a classifier from a data manager'''\n",
    "        self.data_manager = data_manager\n",
    "        self.classifier = classifier\n",
    "        self.cleaning_operations = cleaning_operations\n",
    "        self.filtering_operations = filtering_operations\n",
    "        self.vectorizer = vectorizer\n",
    "        self.shuffle = shuffle\n",
    "        self.seed = seed\n",
    "        self.initialized = False\n",
    "\n",
    "    def initialize(self):\n",
    "        '''materialize the training data, dev data and test data as matrices'''\n",
    "        if self.initialized:\n",
    "            return\n",
    "        self.X_train_text, self.y_train_text = \\\n",
    "            self.data_manager.training_data()\n",
    "        self.X_dev_text, self.y_dev_text = \\\n",
    "            self.data_manager.dev_data()\n",
    "        self.X_test_text, self.y_test_text = \\\n",
    "            self.data_manager.test_data()\n",
    "        self._filter()\n",
    "        self._clean()\n",
    "        self._extract_features()\n",
    "        if self.shuffle:\n",
    "            self._shuffle()\n",
    "        self.initialized = True\n",
    "\n",
    "    def _clean(self):\n",
    "        '''\n",
    "        The order of the list of operations matters! It is recommended to have\n",
    "            'replace_newline_char' be the first in cleaning_operations.\n",
    "            Cleaning will not remove data!\n",
    "        '''\n",
    "        for op in self.cleaning_operations:\n",
    "            if isinstance(op, tuple):\n",
    "                f = op[0]\n",
    "                args = op[1]\n",
    "            else:\n",
    "                f = op\n",
    "                args = {}\n",
    "            f(self.X_train_text, self.y_train_text, **args)\n",
    "            f(self.X_dev_text, self.y_dev_text, **args)\n",
    "            f(self.X_test_text, self.y_test_text, **args)\n",
    "\n",
    "\n",
    "    def _filter(self):\n",
    "        '''\n",
    "        The order of the list of operations matters! Filtering will remove data!\n",
    "        '''\n",
    "        for op in self.filtering_operations:\n",
    "            if isinstance(op, tuple):\n",
    "                f = op[0]\n",
    "                args = op[1]\n",
    "            else:\n",
    "                f = op\n",
    "                args = {}\n",
    "            self.X_train_text, self.y_train_text = \\\n",
    "                f(self.X_train_text, self.y_train_text, **args)\n",
    "            self.X_dev_text, self.y_dev_text = \\\n",
    "                f(self.X_dev_text, self.y_dev_text, **args)\n",
    "            self.X_test_text, self.y_test_text = \\\n",
    "                f(self.X_test_text, self.y_test_text, **args)\n",
    "                \n",
    "                \n",
    "    def _extract_features(self):\n",
    "        '''\n",
    "        Vectorizer should return NxM matrix where N is number of samples and\n",
    "            M is number of features (dimension)\n",
    "        '''\n",
    "        self.X_train = self.vectorizer.fit_transform(self.X_train_text)\n",
    "        self.X_dev = self.vectorizer.transform(self.X_dev_text)\n",
    "        self.X_test = self.vectorizer.transform(self.X_test_text)\n",
    "\n",
    "        # TODO: Ensure no zero vectors or any funny business\n",
    "        # TODO: convert labels to integers and maintain a mapping\n",
    "        S = list(set(self.y_train_text + self.y_dev_text + self.y_test_text))\n",
    "        self.lang_to_num = dict(zip(S, range(len(S))))\n",
    "        self.num_to_lang = {v: k for k, v in self.lang_to_num.iteritems()}\n",
    "\n",
    "        conv = lambda x: self.lang_to_num[x]\n",
    "        self.y_train = map(conv, self.y_train_text)\n",
    "        self.y_dev = map(conv, self.y_dev_text)\n",
    "        self.y_test = map(conv, self.y_test_text)\n",
    "\n",
    "    def _shuffle(self):\n",
    "        if self.seed:\n",
    "            np.random.seed(self.seed)\n",
    "        p = np.random.permutation(len(self.y_train))\n",
    "        self.X_train = self.X_train[p]\n",
    "        self.X_train_text = [self.X_train_text[i] for i in p]\n",
    "        self.y_train = [self.y_train[i] for i in p]\n",
    "        self.y_train_text = [self.y_train_text[i] for i in p]\n",
    "\n",
    "    \n",
    "    def fit_and_validate(self):\n",
    "        '''train the classifier and assess predictions on dev data'''\n",
    "        if not self.initialized:\n",
    "            self.initialize()\n",
    "        self.classifier.fit(self.X_train, self.y_train)\n",
    "        self.dev_predictions = self.classifier.predict(self.X_dev)\n",
    "        self.dev_accuracy = \\\n",
    "            sklearn.metrics.accuracy_score(self.y_dev, self.dev_predictions)\n",
    "\n",
    "    '''\n",
    "    @classmethod\n",
    "    def transform(cls, expt, operation, classifier):\n",
    "        'use operations to transform the data and set up new expt'\n",
    "        if not expt.initialized:\n",
    "            expt.initialize()\n",
    "        result = cls(expt.data, classifier)\n",
    "        result.X_train, result.y_train = operation(expt.X_train, expt.y_train)\n",
    "        result.X_dev, result.y_dev = operation(expt.X_dev, expt.y_dev)\n",
    "        result.X_test, result.y_test = operation(expt.X_test, expt.y_test)\n",
    "        result.initialized = True\n",
    "        return result\n",
    "    '''\n"
   ]
  },
  {
   "cell_type": "code",
   "execution_count": 42,
   "metadata": {
    "collapsed": false,
    "scrolled": true
   },
   "outputs": [],
   "source": [
    "dm = DataManager(RECALL_TSV, RECALL_DATA, LANG_CODES)\n",
    "dm.initialize(shuffle=True)"
   ]
  },
  {
   "cell_type": "code",
   "execution_count": 43,
   "metadata": {
    "collapsed": false
   },
   "outputs": [],
   "source": [
    "import re\n",
    "\n",
    "def decode_unicode(X, y):\n",
    "    for idx, tweet in enumerate(X):\n",
    "        X[idx] = tweet.decode('utf-8')\n",
    "    return X, y\n",
    "\n",
    "def remove_newline_char(X, y):\n",
    "    for idx, tweet in enumerate(X):\n",
    "        X[idx] = tweet.replace(r'\\n', ' ')\n",
    "    return X, y\n",
    "\n",
    "def remove_RT(X, y):\n",
    "    for idx, tweet in enumerate(X):\n",
    "        X[idx] = tweet.replace('RT', '')\n",
    "    return X, y\n",
    "\n",
    "def remove_urls(X, y):\n",
    "    pattern = 'http\\S+'\n",
    "    p = re.compile(pattern)\n",
    "    for idx, tweet in enumerate(X):\n",
    "        if p.search(tweet):\n",
    "            X[idx] = p.sub('', tweet)\n",
    "    return X, y\n",
    "\n",
    "def remove_handles(X, y):\n",
    "    pattern = '@[a-z,A-Z]*'\n",
    "    p = re.compile(pattern)\n",
    "    for idx, tweet in enumerate(X):\n",
    "        if p.search(tweet):\n",
    "            X[idx] = p.sub('', tweet)\n",
    "    return X, y\n",
    "\n",
    "def remove_hashtags(X, y):\n",
    "    pattern = '#[a-z,A-Z]*'\n",
    "    p = re.compile(pattern)\n",
    "    for idx, tweet in enumerate(X):\n",
    "        if p.search(tweet):\n",
    "            X[idx] = p.sub('', tweet)\n",
    "    return X, y\n",
    "\n",
    "def remove_emojis(X, y, emojis):\n",
    "    for idx, x in enumerate(X):\n",
    "        for emoji in emojis:\n",
    "            x = x.replace(emoji, '')\n",
    "        X[idx] = x\n",
    "    return X, y"
   ]
  },
  {
   "cell_type": "code",
   "execution_count": 44,
   "metadata": {
    "collapsed": false
   },
   "outputs": [],
   "source": [
    "import cPickle as pickle\n",
    "with open('../emoji_unicode.pkl', 'rb') as f:\n",
    "    emojis = pickle.load(f)"
   ]
  },
  {
   "cell_type": "code",
   "execution_count": 106,
   "metadata": {
    "collapsed": false
   },
   "outputs": [
    {
     "name": "stdout",
     "output_type": "stream",
     "text": [
      "1418 1418\n",
      "1418 1418\n"
     ]
    }
   ],
   "source": [
    "langs_to_use = ['es', 'it']\n",
    "\n",
    "X, y = dm.training_data()\n",
    "\n",
    "def filt_by_lang(X, y, langs_to_use):\n",
    "    indices = []\n",
    "    for idx, lang in enumerate(y):\n",
    "        if lang in langs_to_use:\n",
    "            indices.append(idx)\n",
    "    return [X[i] for i in indices], [y[i] for i in indices]\n",
    "\n",
    "X1, y1 = zip(*filter(lambda pair: pair[1] in langs_to_use, zip(X, y)))\n",
    "\n",
    "X2, y2 = filt_by_lang(X, y, langs_to_use)\n",
    "\n",
    "print len(X1), len(y1)\n",
    "print len(X2), len(y2)"
   ]
  },
  {
   "cell_type": "code",
   "execution_count": 115,
   "metadata": {
    "collapsed": false,
    "scrolled": true
   },
   "outputs": [],
   "source": [
    "identity = lambda x: np.array(x)\n",
    "vectorizer = TfidfVectorizer(sublinear_tf=True,\n",
    "                             max_df=0.50)\n",
    "classifier = \\\n",
    "sklearn.linear_model.SGDClassifier(loss=\"log\",\n",
    "                                   penalty=\"elasticnet\",\n",
    "                                   n_iter=5)\n",
    "# classifier = \\\n",
    "#     sklearn.neighbors.KNeighborsClassifier(n_neighbors=5)\n",
    "\n",
    "clean_ops = [\n",
    "    decode_unicode, remove_newline_char, remove_RT, remove_urls,\n",
    "    remove_handles, remove_hashtags, (remove_emojis, {'emojis': emojis})\n",
    "]\n",
    "filter_ops = [\n",
    "    (filt_by_lang, {'langs_to_use': langs_to_use})\n",
    "]\n",
    "ops = []\n",
    "expt = Experiment(dm,\n",
    "                  classifier=classifier,\n",
    "                  cleaning_operations=ops,\n",
    "                  filtering_operations=filter_ops,\n",
    "                  vectorizer=vectorizer,\n",
    "                  shuffle=True,\n",
    "                  seed=np.)\n",
    "expt.initialize()"
   ]
  },
  {
   "cell_type": "code",
   "execution_count": 114,
   "metadata": {
    "collapsed": false
   },
   "outputs": [
    {
     "name": "stdout",
     "output_type": "stream",
     "text": [
      "0.951271186441\n",
      "[[213   8]\n",
      " [ 15 236]]\n"
     ]
    }
   ],
   "source": [
    "expt.fit_and_validate()\n",
    "print sklearn.metrics.accuracy_score(expt.y_dev, expt.dev_predictions)\n",
    "print sklearn.metrics.confusion_matrix(expt.y_dev, expt.dev_predictions)"
   ]
  },
  {
   "cell_type": "code",
   "execution_count": 65,
   "metadata": {
    "collapsed": false
   },
   "outputs": [],
   "source": [
    "import matplotlib.pyplot as plt\n",
    "import itertools\n",
    "\n",
    "def plot_confusion_matrix(cm, classes,\n",
    "                          normalize=False,\n",
    "                          title='Confusion matrix',\n",
    "                          cmap=plt.cm.Blues):\n",
    "    \"\"\"\n",
    "    This function prints and plots the confusion matrix.\n",
    "    Normalization can be applied by setting `normalize=True`.\n",
    "    \"\"\"\n",
    "    plt.imshow(cm, interpolation='nearest', cmap=cmap)\n",
    "    plt.title(title)\n",
    "    plt.colorbar()\n",
    "    tick_marks = np.arange(len(classes))\n",
    "#     plt.xticks(tick_marks, classes, rotation=45)\n",
    "#     plt.yticks(tick_marks, classes)\n",
    "\n",
    "    if normalize:\n",
    "        cm = cm.astype('float') / cm.sum(axis=1)[:, np.newaxis]\n",
    "        print(\"Normalized confusion matrix\")\n",
    "    else:\n",
    "        print('Confusion matrix, without normalization')\n",
    "\n",
    "    print(cm)\n",
    "\n",
    "    thresh = cm.max() / 2.\n",
    "#     for i, j in itertools.product(range(cm.shape[0]), range(cm.shape[1])):\n",
    "#         plt.text(j, i, cm[i, j],\n",
    "#                  horizontalalignment=\"center\",\n",
    "#                  color=\"white\" if cm[i, j] > thresh else \"black\")\n",
    "\n",
    "    plt.tight_layout()\n",
    "    plt.ylabel('True label')\n",
    "    plt.xlabel('Predicted label')"
   ]
  },
  {
   "cell_type": "code",
   "execution_count": 66,
   "metadata": {
    "collapsed": false
   },
   "outputs": [
    {
     "name": "stdout",
     "output_type": "stream",
     "text": [
      "Normalized confusion matrix\n",
      "[[ 0.969163    0.030837  ]\n",
      " [ 0.00680272  0.99319728]]\n"
     ]
    },
    {
     "data": {
      "image/png": "[encoded data removed]",
      "text/plain": [
       "<matplotlib.figure.Figure at 0x7f68d0012ad0>"
      ]
     },
     "metadata": {},
     "output_type": "display_data"
    }
   ],
   "source": [
    "cm = sklearn.metrics.confusion_matrix(expt.y_dev, expt.dev_predictions)\n",
    "plt.figure()\n",
    "plot_confusion_matrix(cm, range(0, 27), normalize=True)\n",
    "plt.show()"
   ]
  },
  {
   "cell_type": "code",
   "execution_count": 22,
   "metadata": {
    "collapsed": false,
    "scrolled": true
   },
   "outputs": [],
   "source": [
    "fn = vectorizer.get_feature_names()"
   ]
  },
  {
   "cell_type": "code",
   "execution_count": 23,
   "metadata": {
    "collapsed": false,
    "scrolled": true
   },
   "outputs": [
    {
     "name": "stdout",
     "output_type": "stream",
     "text": [
      "150870\n"
     ]
    }
   ],
   "source": [
    "print len(fn)"
   ]
  }
 ],
 "metadata": {
  "kernelspec": {
   "display_name": "Python 2",
   "language": "python",
   "name": "python2"
  },
  "language_info": {
   "codemirror_mode": {
    "name": "ipython",
    "version": 2
   },
   "file_extension": ".py",
   "mimetype": "text/x-python",
   "name": "python",
   "nbconvert_exporter": "python",
   "pygments_lexer": "ipython2",
   "version": "2.7.12"
  }
 },
 "nbformat": 4,
 "nbformat_minor": 1
}
